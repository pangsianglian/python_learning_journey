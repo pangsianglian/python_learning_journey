{
 "cells": [
  {
   "cell_type": "markdown",
   "id": "8ed3fa6f",
   "metadata": {},
   "source": [
    "## Finding the least common multiple (LCM)\n",
    "\n",
    "Find the LCM of 2 divisors. The LCM of two divisors is the first number that both divisors can divide."
   ]
  },
  {
   "cell_type": "code",
   "execution_count": 2,
   "id": "3f8a2e2b",
   "metadata": {},
   "outputs": [
    {
     "name": "stdout",
     "output_type": "stream",
     "text": [
      "Enter first number: 24\n",
      "Enter second number: 36\n",
      "\n",
      "The LCM of 24 and 36 is 72.\n"
     ]
    }
   ],
   "source": [
    "# prompt user for input 2 divisors and convert to integer\n",
    "a = int(input('Enter first number: '))\n",
    "b = int(input('Enter second number: '))\n",
    "\n",
    "# Set iterator: choose larger number as iterator variable as LCM must be more than the divisors\n",
    "lcm = max(a, b) # compare and choose the maximum number\n",
    "    \n",
    "# initialize while loop, based on a Boolean that is True by default, with iterator\n",
    "while True:\n",
    "    # Find the first number that both divisors can divide and break the loop\n",
    "    if lcm % a == 0 and lcm % b == 0:\n",
    "        print(f'\\nThe LCM of {a} and {b} is {lcm}.')\n",
    "        break\n",
    "    # Start from max input and Increment by 1 until LCM is found\n",
    "    lcm += 1\n",
    "    "
   ]
  },
  {
   "cell_type": "code",
   "execution_count": null,
   "id": "d37c38fb",
   "metadata": {},
   "outputs": [],
   "source": []
  }
 ],
 "metadata": {
  "kernelspec": {
   "display_name": "Python 3 (ipykernel)",
   "language": "python",
   "name": "python3"
  },
  "language_info": {
   "codemirror_mode": {
    "name": "ipython",
    "version": 3
   },
   "file_extension": ".py",
   "mimetype": "text/x-python",
   "name": "python",
   "nbconvert_exporter": "python",
   "pygments_lexer": "ipython3",
   "version": "3.11.3"
  }
 },
 "nbformat": 4,
 "nbformat_minor": 5
}
