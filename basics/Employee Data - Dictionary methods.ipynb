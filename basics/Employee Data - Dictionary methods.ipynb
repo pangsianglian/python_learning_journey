{
 "cells": [
  {
   "cell_type": "markdown",
   "id": "be505645",
   "metadata": {},
   "source": [
    "### Using dictionary method after using dictionary to store employee data\n",
    "\n",
    "You have currently given a list of employees. You are asked to use Python to store this data and print it when needed."
   ]
  },
  {
   "cell_type": "code",
   "execution_count": 16,
   "id": "3fa6d06d",
   "metadata": {},
   "outputs": [
    {
     "name": "stdout",
     "output_type": "stream",
     "text": [
      "[{'Name': 'Jason', 'Age': 39, 'Department': 'Sales'}, {'Name': 'Mary', 'Age': 29, 'Department': 'Marketing'}, {'Name': 'Susan', 'Age': 33, 'Department': 'HR'}]\n",
      "\n",
      "Employee Details: \n",
      "\n",
      "Name : Jason\n",
      "Age : 39\n",
      "Department : Sales\n",
      "--------------------\n",
      "Name : Mary\n",
      "Age : 29\n",
      "Department : Marketing\n",
      "--------------------\n",
      "Name : Susan\n",
      "Age : 33\n",
      "Department : HR\n",
      "--------------------\n",
      "\n",
      "Details for Susan:\n",
      "Name : Susan\n",
      "Age : 33\n",
      "Department : HR\n",
      "--------------------\n"
     ]
    }
   ],
   "source": [
    "# create a empty list with three dictionary objects \n",
    "employees = [\n",
    "    {\"Name\" : \"Jason\", \"Age\" : 39, \"Department\" : \"Sales\"},\n",
    "    {\"Name\" : \"Mary\", \"Age\" : 29, \"Department\" : \"Marketing\"},\n",
    "    {\"Name\" : \"Susan\", \"Age\" : 33,\"Department\" : \"HR\"}\n",
    "]\n",
    "\n",
    "# print the employee variables\n",
    "print(employees)\n",
    "\n",
    "#print all employees in presentable format\n",
    "print(\"\\nEmployee Details: \\n\")\n",
    "for emp in employees: # for each dictionary in employee list\n",
    "    for key, value in emp.items(): # for each item with key and value in emp dictionary\n",
    "        print(f\"{key} : {value}\") # print key name : vlue pair\n",
    "    print(\"-\"*20) # separator after each emp item\n",
    "\n",
    "# only print the details of Susan\n",
    "\n",
    "print(\"\\nDetails for Susan:\")\n",
    "for emp in employees:\n",
    "    if emp['Name'] == \"Susan\":\n",
    "        for key, value in emp.items():\n",
    "            print(f\"{key} : {value}\")\n",
    "        print(\"-\"*20)\n",
    "\n"
   ]
  },
  {
   "cell_type": "code",
   "execution_count": null,
   "id": "ddb33f4a",
   "metadata": {},
   "outputs": [],
   "source": []
  }
 ],
 "metadata": {
  "kernelspec": {
   "display_name": "Python 3 (ipykernel)",
   "language": "python",
   "name": "python3"
  },
  "language_info": {
   "codemirror_mode": {
    "name": "ipython",
    "version": 3
   },
   "file_extension": ".py",
   "mimetype": "text/x-python",
   "name": "python",
   "nbconvert_exporter": "python",
   "pygments_lexer": "ipython3",
   "version": "3.11.3"
  }
 },
 "nbformat": 4,
 "nbformat_minor": 5
}
