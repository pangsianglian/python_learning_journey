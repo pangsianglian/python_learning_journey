{
 "cells": [
  {
   "cell_type": "markdown",
   "id": "be505645",
   "metadata": {},
   "source": [
    "### Using a list and dictionary to store employee data\n",
    "\n",
    "You have currently given a list of employees. You are asked to use Python to store this data and print it when needed."
   ]
  },
  {
   "cell_type": "code",
   "execution_count": 18,
   "id": "3fa6d06d",
   "metadata": {},
   "outputs": [
    {
     "name": "stdout",
     "output_type": "stream",
     "text": [
      "[{'Name': 'Jason', 'Age': 39, 'Department': 'Sales'}, {'Name': 'Mary', 'Age': 29, 'Department': 'Marketing'}, {'Name': 'Susan', 'Age': 33, 'Department': 'HR'}]\n",
      "\n",
      "Employee Details: \n",
      "\n",
      "Name : Jason\n",
      "Age : 39\n",
      "Department : Sales\n",
      "--------------------\n",
      "Name : Mary\n",
      "Age : 29\n",
      "Department : Marketing\n",
      "--------------------\n",
      "Name : Susan\n",
      "Age : 33\n",
      "Department : HR\n",
      "--------------------\n",
      "\n",
      "Details for Susan:\n",
      "Name : Susan\n",
      "Age : 33\n",
      "Department : HR\n",
      "--------------------\n"
     ]
    }
   ],
   "source": [
    "# create a empty list \n",
    "employees = []\n",
    "\n",
    "# create three dictionary objects \n",
    "jason = {\n",
    "    \"Name\" : \"Jason\",\n",
    "    \"Age\" : 39,\n",
    "    \"Department\" : \"Sales\"}\n",
    "\n",
    "mary = {\n",
    "    \"Name\" : \"Mary\", \n",
    "    \"Age\" : 29,\n",
    "    \"Department\" : \"Marketing\"}\n",
    "\n",
    "susan = {\n",
    "    \"Name\" : \"Susan\",\n",
    "    \"Age\" : 33,\n",
    "    \"Department\" : \"HR\"}\n",
    "\n",
    "# assign the dictionaries as employees\n",
    "\n",
    "employees = [jason, mary, susan]\n",
    "\n",
    "# print the employee variables\n",
    "print(employees)\n",
    "\n",
    "#print all employees in presentable format\n",
    "print(\"\\nEmployee Details: \\n\")\n",
    "for i in employees:\n",
    "    print(f\"Name : {i['Name']}\")\n",
    "    print(f\"Age : {i['Age']}\")\n",
    "    print(f\"Department : {i['Department']}\")\n",
    "    print(\"-\"*20)\n",
    "\n",
    "# only print the details of Susan\n",
    "\n",
    "print(\"\\nDetails for Susan:\")\n",
    "for i in employees:\n",
    "    if i['Name'] == \"Susan\":\n",
    "        print(f\"Name : {i['Name']}\")\n",
    "        print(f\"Age : {i['Age']}\")\n",
    "        print(f\"Department : {i['Department']}\")\n",
    "        print(\"-\"*20)\n",
    "\n"
   ]
  },
  {
   "cell_type": "code",
   "execution_count": null,
   "id": "b857d862",
   "metadata": {},
   "outputs": [],
   "source": []
  },
  {
   "cell_type": "code",
   "execution_count": null,
   "id": "ddb33f4a",
   "metadata": {},
   "outputs": [],
   "source": []
  }
 ],
 "metadata": {
  "kernelspec": {
   "display_name": "Python 3 (ipykernel)",
   "language": "python",
   "name": "python3"
  },
  "language_info": {
   "codemirror_mode": {
    "name": "ipython",
    "version": 3
   },
   "file_extension": ".py",
   "mimetype": "text/x-python",
   "name": "python",
   "nbconvert_exporter": "python",
   "pygments_lexer": "ipython3",
   "version": "3.11.3"
  }
 },
 "nbformat": 4,
 "nbformat_minor": 5
}
