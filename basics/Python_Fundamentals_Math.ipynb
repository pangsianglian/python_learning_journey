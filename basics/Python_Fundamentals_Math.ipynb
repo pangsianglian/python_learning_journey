{
 "cells": [
  {
   "cell_type": "markdown",
   "id": "a1a5da70",
   "metadata": {},
   "source": [
    "Basic math operations"
   ]
  },
  {
   "cell_type": "code",
   "execution_count": 1,
   "id": "7a72f57c",
   "metadata": {},
   "outputs": [
    {
     "data": {
      "text/plain": [
       "5"
      ]
     },
     "execution_count": 1,
     "metadata": {},
     "output_type": "execute_result"
    }
   ],
   "source": [
    "# 1. Add 3 and 2 using the + addition operator by entering the following code:\n",
    "3 + 2"
   ]
  },
  {
   "cell_type": "code",
   "execution_count": 2,
   "id": "ae4ddbfd",
   "metadata": {},
   "outputs": [
    {
     "data": {
      "text/plain": [
       "1"
      ]
     },
     "execution_count": 2,
     "metadata": {},
     "output_type": "execute_result"
    }
   ],
   "source": [
    "# 2. Substract 2 from 3 using the - substraction operator as follows:\n",
    "3 - 2"
   ]
  },
  {
   "cell_type": "code",
   "execution_count": 3,
   "id": "452bc1d1",
   "metadata": {},
   "outputs": [
    {
     "data": {
      "text/plain": [
       "6"
      ]
     },
     "execution_count": 3,
     "metadata": {},
     "output_type": "execute_result"
    }
   ],
   "source": [
    "# 3. Use the * multiplication operator to multiply 3 by 2:\n",
    "3 * 2"
   ]
  },
  {
   "cell_type": "code",
   "execution_count": 4,
   "id": "50cf8d21",
   "metadata": {},
   "outputs": [
    {
     "data": {
      "text/plain": [
       "1.5"
      ]
     },
     "execution_count": 4,
     "metadata": {},
     "output_type": "execute_result"
    }
   ],
   "source": [
    "# 4. use the division operator to divide 3 by 2:\n",
    "3 / 2\n",
    "# when dividing two numbers, Python always returns a decimal, which is different than other languages. \n",
    "# Python is math-positive, so it gives the correct mathematical answer."
   ]
  },
  {
   "cell_type": "code",
   "execution_count": 5,
   "id": "d6c3810c",
   "metadata": {},
   "outputs": [
    {
     "data": {
      "text/plain": [
       "3"
      ]
     },
     "execution_count": 5,
     "metadata": {},
     "output_type": "execute_result"
    }
   ],
   "source": [
    "# 5. Integer division can be done using the // integer division operator:\n",
    "7 // 2\n",
    "# the result of integer divission is the integer before the decimal point. it is not rounded."
   ]
  },
  {
   "cell_type": "code",
   "execution_count": 6,
   "id": "e1815110",
   "metadata": {},
   "outputs": [
    {
     "data": {
      "text/plain": [
       "9"
      ]
     },
     "execution_count": 6,
     "metadata": {},
     "output_type": "execute_result"
    }
   ],
   "source": [
    "# 6. Use the ** exponential operator to take 3 to the 2nd power:\n",
    "3 ** 2"
   ]
  },
  {
   "cell_type": "code",
   "execution_count": 7,
   "id": "e5a1105c",
   "metadata": {},
   "outputs": [
    {
     "data": {
      "text/plain": [
       "1"
      ]
     },
     "execution_count": 7,
     "metadata": {},
     "output_type": "execute_result"
    }
   ],
   "source": [
    "# 7. use the % modulus operator to find 3 mod 2:\n",
    "3 % 2\n",
    "# the modulus operator returns the remainder when first number divided by the second."
   ]
  },
  {
   "cell_type": "markdown",
   "id": "4897bbe7",
   "metadata": {},
   "source": [
    "#### Order of operations\n",
    "Parentheses is meaningful in Python. When it comes to computation, Python always computes what is in parentheses first.\n",
    "the Python language follows the same order of operations as in the math world. \n",
    "1. Parantheses\n",
    "2. exponentiation\n",
    "3. multiplication / division\n",
    "4. addition / substration"
   ]
  },
  {
   "cell_type": "code",
   "execution_count": 8,
   "id": "7781a7c5",
   "metadata": {},
   "outputs": [
    {
     "data": {
      "text/plain": [
       "1"
      ]
     },
     "execution_count": 8,
     "metadata": {},
     "output_type": "execute_result"
    }
   ],
   "source": [
    "# 1. Without parentheses, Python will first multiply 2 and -3, then add 7:\n",
    "7 + 2 * -3"
   ]
  },
  {
   "cell_type": "code",
   "execution_count": 9,
   "id": "514cada0",
   "metadata": {},
   "outputs": [
    {
     "data": {
      "text/plain": [
       "-27"
      ]
     },
     "execution_count": 9,
     "metadata": {},
     "output_type": "execute_result"
    }
   ],
   "source": [
    "'''2. If parantheses are placed around 7 and 2, \n",
    "we obtain a different result since 7 and 2 will be added before multiplying by -3'''\n",
    "( 7 + 2) * -3"
   ]
  },
  {
   "cell_type": "markdown",
   "id": "77dea4f1",
   "metadata": {},
   "source": [
    "If ever in doubt, use parantheses. Parentheses are very helpful for complex expressions, \n",
    "extra parentheses do not affect code"
   ]
  },
  {
   "cell_type": "markdown",
   "id": "6312f20f",
   "metadata": {},
   "source": [
    "#### Exercise 1: getting to know the order of operations"
   ]
  },
  {
   "cell_type": "markdown",
   "id": "ba776e67",
   "metadata": {},
   "source": [
    "1. Substract 7 to the 3rd power from 100 and divide the result by 5:"
   ]
  },
  {
   "cell_type": "code",
   "execution_count": 10,
   "id": "67d3682e",
   "metadata": {},
   "outputs": [
    {
     "data": {
      "text/plain": [
       "-48.6"
      ]
     },
     "execution_count": 10,
     "metadata": {},
     "output_type": "execute_result"
    }
   ],
   "source": [
    "(100 - 7 ** 3) / 5"
   ]
  },
  {
   "cell_type": "markdown",
   "id": "41abb98a",
   "metadata": {},
   "source": [
    "2. Add 5 to the remainder of 15 divided by 4"
   ]
  },
  {
   "cell_type": "code",
   "execution_count": 11,
   "id": "d61470df",
   "metadata": {},
   "outputs": [
    {
     "data": {
      "text/plain": [
       "8"
      ]
     },
     "execution_count": 11,
     "metadata": {},
     "output_type": "execute_result"
    }
   ],
   "source": [
    "5 + 15 % 4"
   ]
  },
  {
   "cell_type": "markdown",
   "id": "530850b4",
   "metadata": {},
   "source": [
    "3. Add 3 to the 2nd power, which is 4, to the integer division of 24 and 4:"
   ]
  },
  {
   "cell_type": "code",
   "execution_count": 12,
   "id": "951136ee",
   "metadata": {},
   "outputs": [
    {
     "data": {
      "text/plain": [
       "15"
      ]
     },
     "execution_count": 12,
     "metadata": {},
     "output_type": "execute_result"
    }
   ],
   "source": [
    "3 ** 2 + 24 // 4"
   ]
  },
  {
   "cell_type": "markdown",
   "id": "ae986943",
   "metadata": {},
   "source": [
    "#### Python concept - spacing\n",
    "In Python, spaces after a number or a symbol does not carry any meaning. 7*3 or 7 * 3 both return 21.\n",
    "Spaces are meant to enhance readability."
   ]
  },
  {
   "cell_type": "markdown",
   "id": "92d2c115",
   "metadata": {},
   "source": [
    "### Number types - integers and floats\n",
    "int  |integer --> 3\n",
    "\n",
    "float|decimals --> 3.0"
   ]
  },
  {
   "cell_type": "markdown",
   "id": "1907a850",
   "metadata": {},
   "source": [
    "#### Exercise 2 - integer and float types"
   ]
  },
  {
   "cell_type": "markdown",
   "id": "0bcc7300",
   "metadata": {},
   "source": [
    "1. Begin by explicitly determining the type of 3 using the following code:"
   ]
  },
  {
   "cell_type": "code",
   "execution_count": 13,
   "id": "ab6fd264",
   "metadata": {},
   "outputs": [
    {
     "data": {
      "text/plain": [
       "int"
      ]
     },
     "execution_count": 13,
     "metadata": {},
     "output_type": "execute_result"
    }
   ],
   "source": [
    "type(3)"
   ]
  },
  {
   "cell_type": "markdown",
   "id": "3845f0db",
   "metadata": {},
   "source": [
    "2. enter type(3.0) in the next cell:"
   ]
  },
  {
   "cell_type": "code",
   "execution_count": 14,
   "id": "78b7e47d",
   "metadata": {},
   "outputs": [
    {
     "data": {
      "text/plain": [
       "float"
      ]
     },
     "execution_count": 14,
     "metadata": {},
     "output_type": "execute_result"
    }
   ],
   "source": [
    "type(3.0)"
   ]
  },
  {
   "cell_type": "markdown",
   "id": "24048aeb",
   "metadata": {},
   "source": [
    "3. add 6 to 3.14. Infer the type of their sum:"
   ]
  },
  {
   "cell_type": "code",
   "execution_count": 15,
   "id": "e5ad750a",
   "metadata": {},
   "outputs": [
    {
     "data": {
      "text/plain": [
       "9.14"
      ]
     },
     "execution_count": 15,
     "metadata": {},
     "output_type": "execute_result"
    }
   ],
   "source": [
    "6 + 3.14 # sum of int + float return float"
   ]
  },
  {
   "cell_type": "markdown",
   "id": "898158be",
   "metadata": {},
   "source": [
    "4. Convert 8.9999999 into an int:"
   ]
  },
  {
   "cell_type": "code",
   "execution_count": 16,
   "id": "bdee36c9",
   "metadata": {},
   "outputs": [
    {
     "data": {
      "text/plain": [
       "8"
      ]
     },
     "execution_count": 16,
     "metadata": {},
     "output_type": "execute_result"
    }
   ],
   "source": [
    "int(8.9999999)"
   ]
  },
  {
   "cell_type": "markdown",
   "id": "c6b6c17d",
   "metadata": {},
   "source": [
    "5. Convert 5 into float"
   ]
  },
  {
   "cell_type": "code",
   "execution_count": 17,
   "id": "0a137b75",
   "metadata": {},
   "outputs": [
    {
     "data": {
      "text/plain": [
       "5.0"
      ]
     },
     "execution_count": 17,
     "metadata": {},
     "output_type": "execute_result"
    }
   ],
   "source": [
    "float(5)"
   ]
  },
  {
   "cell_type": "markdown",
   "id": "57d19e58",
   "metadata": {},
   "source": [
    "#### Complex number types"
   ]
  },
  {
   "cell_type": "code",
   "execution_count": 18,
   "id": "0068a04c",
   "metadata": {},
   "outputs": [
    {
     "data": {
      "text/plain": [
       "(-0.4615384615384615+0.6923076923076923j)"
      ]
     },
     "execution_count": 18,
     "metadata": {},
     "output_type": "execute_result"
    }
   ],
   "source": [
    "# Divide 3 + 3j by 1 - 5j\n",
    "(3 + 3j) / (1 - 5j)"
   ]
  },
  {
   "cell_type": "markdown",
   "id": "27320a4f",
   "metadata": {},
   "source": [
    "#### Exercise 3 - assigning variables"
   ]
  },
  {
   "cell_type": "markdown",
   "id": "b6783f56",
   "metadata": {},
   "source": [
    "1. Set x equal to the number 5, then add 1 to the x variable:"
   ]
  },
  {
   "cell_type": "code",
   "execution_count": 19,
   "id": "e78508cd",
   "metadata": {},
   "outputs": [
    {
     "data": {
      "text/plain": [
       "6"
      ]
     },
     "execution_count": 19,
     "metadata": {},
     "output_type": "execute_result"
    }
   ],
   "source": [
    "x = 5\n",
    "x + 1"
   ]
  },
  {
   "cell_type": "markdown",
   "id": "b190b656",
   "metadata": {},
   "source": [
    "2. Check the value of x"
   ]
  },
  {
   "cell_type": "code",
   "execution_count": 20,
   "id": "c706a6e5",
   "metadata": {},
   "outputs": [
    {
     "data": {
      "text/plain": [
       "5"
      ]
     },
     "execution_count": 20,
     "metadata": {},
     "output_type": "execute_result"
    }
   ],
   "source": [
    "x # the value of x has not changed. x = 2"
   ]
  },
  {
   "cell_type": "markdown",
   "id": "64677192",
   "metadata": {},
   "source": [
    "3. Change x = 5.0, set x equal to x + 1, and check the value of x:"
   ]
  },
  {
   "cell_type": "code",
   "execution_count": 21,
   "id": "b0d07a5f",
   "metadata": {},
   "outputs": [
    {
     "data": {
      "text/plain": [
       "6.0"
      ]
     },
     "execution_count": 21,
     "metadata": {},
     "output_type": "execute_result"
    }
   ],
   "source": [
    "x = 5.0\n",
    "x = x + 1 # we change the value of x by setting x = x + 1\n",
    "x # x will return latest changes, which is 6.0"
   ]
  },
  {
   "cell_type": "code",
   "execution_count": 22,
   "id": "29ce7b80",
   "metadata": {},
   "outputs": [
    {
     "data": {
      "text/plain": [
       "6.0"
      ]
     },
     "execution_count": 22,
     "metadata": {},
     "output_type": "execute_result"
    }
   ],
   "source": [
    "'''Incrementing a variable by 1 is common in computer programming. \n",
    "shortcut is x += 1'''\n",
    "x = 5.0\n",
    "x += 1 # we change the value of x by setting x = x + 1\n",
    "x # x will return latest changes, which is 6.0"
   ]
  }
 ],
 "metadata": {
  "kernelspec": {
   "display_name": "Python 3 (ipykernel)",
   "language": "python",
   "name": "python3"
  },
  "language_info": {
   "codemirror_mode": {
    "name": "ipython",
    "version": 3
   },
   "file_extension": ".py",
   "mimetype": "text/x-python",
   "name": "python",
   "nbconvert_exporter": "python",
   "pygments_lexer": "ipython3",
   "version": "3.11.3"
  }
 },
 "nbformat": 4,
 "nbformat_minor": 5
}
