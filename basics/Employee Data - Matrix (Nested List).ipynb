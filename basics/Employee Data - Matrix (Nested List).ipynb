{
 "cells": [
  {
   "cell_type": "markdown",
   "id": "be505645",
   "metadata": {},
   "source": [
    "### Using a nested list (Matrix) to store employee data\n",
    "\n",
    "You have currently given a list of employees. You are asked to use Python to store this data and print it when needed."
   ]
  },
  {
   "cell_type": "code",
   "execution_count": 19,
   "id": "3fa6d06d",
   "metadata": {},
   "outputs": [
    {
     "name": "stdout",
     "output_type": "stream",
     "text": [
      "[['Jason', 39, 'Sales'], ['Mary', 29, 'Marketing'], ['Susan', 33, 'HR']]\n",
      "\n",
      "Employee Details: \n",
      "\n",
      "Name: Jason\n",
      "Age: 39\n",
      "Department: Sales\n",
      "--------------------\n",
      "Name: Mary\n",
      "Age: 29\n",
      "Department: Marketing\n",
      "--------------------\n",
      "Name: Susan\n",
      "Age: 33\n",
      "Department: HR\n",
      "--------------------\n",
      "['Mary', 29, 'Marketing']\n",
      "Name: Mary\n",
      "Age: 29\n",
      "Department: Marketing\n",
      "--------------------\n"
     ]
    }
   ],
   "source": [
    "# create a list and assign it as employees\n",
    "employees = []\n",
    "employees = [[\"Jason\", 39, \"Sales\"], [\"Mary\", 29, \"Marketing\"], [\"Susan\", 33, \"HR\"]]\n",
    "\n",
    "# print the employee variables\n",
    "print(employees)\n",
    "\n",
    "#print all employees in presentable format\n",
    "print(\"\\nEmployee Details: \\n\")\n",
    "for row in employees:\n",
    "    print(f\"Name: {row[0]}\")\n",
    "    print(f'Age: {row[1]}')\n",
    "    print(f'Department: {row[2]}')\n",
    "    print(\"-\"*20)\n",
    "\n",
    "# only print the details of Mary\n",
    "\n",
    "mary = employees[1]\n",
    "\n",
    "print(mary)\n",
    "\n",
    "print(f\"Name: {mary[0]}\")\n",
    "print(f'Age: {mary[1]}')\n",
    "print(f'Department: {mary[2]}')\n",
    "print(\"-\"*20)\n"
   ]
  },
  {
   "cell_type": "code",
   "execution_count": null,
   "id": "b857d862",
   "metadata": {},
   "outputs": [],
   "source": []
  },
  {
   "cell_type": "code",
   "execution_count": null,
   "id": "ddb33f4a",
   "metadata": {},
   "outputs": [],
   "source": []
  }
 ],
 "metadata": {
  "kernelspec": {
   "display_name": "Python 3 (ipykernel)",
   "language": "python",
   "name": "python3"
  },
  "language_info": {
   "codemirror_mode": {
    "name": "ipython",
    "version": 3
   },
   "file_extension": ".py",
   "mimetype": "text/x-python",
   "name": "python",
   "nbconvert_exporter": "python",
   "pygments_lexer": "ipython3",
   "version": "3.11.3"
  }
 },
 "nbformat": 4,
 "nbformat_minor": 5
}
