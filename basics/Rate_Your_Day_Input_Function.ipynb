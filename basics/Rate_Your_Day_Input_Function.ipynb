{
 "cells": [
  {
   "cell_type": "markdown",
   "id": "1988071a",
   "metadata": {},
   "source": [
    "# The input() function"
   ]
  },
  {
   "cell_type": "markdown",
   "id": "fe7eca85",
   "metadata": {},
   "source": [
    "### Activity - using the input() function to rate your day\n",
    "\n",
    "In this activity, you will create an input type where you ask the user to rate their day on a scale of 1 to 10.\n",
    "Using the input() function, you will prompt a user for input and respond with a comment that includes the input. In this activity, you will print a messafe to the user to ask for a number. Then, you will assign the number to a variable and use that variable and use that variable in a second message that you display to the user."
   ]
  },
  {
   "cell_type": "code",
   "execution_count": 17,
   "id": "3e01219a",
   "metadata": {},
   "outputs": [
    {
     "name": "stdout",
     "output_type": "stream",
     "text": [
      "What is your name? peh\n",
      "Hello, peh.\n",
      "rate your day from 1 is the worst day to 10 is the best day. 15\n",
      "Invalid input. Please enter a number from 1 to 10.\n",
      "rate your day from 1 is the worst day to 10 is the best day. 0\n",
      "Invalid input. Please enter a number from 1 to 10.\n",
      "rate your day from 1 is the worst day to 10 is the best day. -1\n",
      "Invalid input. Please enter a number from 1 to 10.\n",
      "rate your day from 1 is the worst day to 10 is the best day. 8\n",
      "Rating 8 is good rate. That’s great to hear — seems like your day had a good rhythm to it.\n"
     ]
    }
   ],
   "source": [
    "# Step 1: ask user to input their name\n",
    "name = input(\"What is your name? \")\n",
    "\n",
    "print(f'Hello, {name}.')\n",
    "\n",
    "# Step 2: ask user to input the rate of their day. Ask until a valid input.\n",
    "\n",
    "while True:\n",
    "    try:\n",
    "        rate_day = int(input(\"rate your day from 1 is the worst day to 10 is the best day. \"))\n",
    "    \n",
    "        if rate_day < 1 or rate_day > 10:\n",
    "            print(\"Invalid input. Please enter a number from 1 to 10.\")\n",
    "        else:\n",
    "            break;\n",
    "\n",
    "    except ValueError:\n",
    "        print(\"Invalid input. Please enter a number from 1 to 10.\")\n",
    "\n",
    "# Step 3: Respond the rating\n",
    "if rate_day <= 3:\n",
    "    print(f'Rating{rate_day}. Sounds like it was a rough day. Take it easy and be kind to yourself tonight.')\n",
    "elif  4< rate_day <= 6:\n",
    "    print(f'Rating {rate_day} seems acceptable. A neutral kind of day. Maybe tomorrow will bring a good surprise.')\n",
    "else:\n",
    "    print(f'Rating {rate_day} is good rate. That’s great to hear — seems like your day had a good rhythm to it.')\n"
   ]
  },
  {
   "cell_type": "code",
   "execution_count": null,
   "id": "86f7dd90",
   "metadata": {},
   "outputs": [],
   "source": []
  }
 ],
 "metadata": {
  "kernelspec": {
   "display_name": "Python 3 (ipykernel)",
   "language": "python",
   "name": "python3"
  },
  "language_info": {
   "codemirror_mode": {
    "name": "ipython",
    "version": 3
   },
   "file_extension": ".py",
   "mimetype": "text/x-python",
   "name": "python",
   "nbconvert_exporter": "python",
   "pygments_lexer": "ipython3",
   "version": "3.11.3"
  }
 },
 "nbformat": 4,
 "nbformat_minor": 5
}
